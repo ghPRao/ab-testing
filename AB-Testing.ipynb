{
 "cells": [
  {
   "cell_type": "markdown",
   "metadata": {},
   "source": [
    "## Objectives\n",
    "You will be able to:\n",
    "\n",
    "Design, structure, and run an A/B test\n",
    "The Scenario\n",
    "You've been tasked with designing an experiment to test whether a new email template will be more effective for your company's marketing team. The current template has a 5% response rate (with standard deviation .0475), which has outperformed numerous other templates in the past. The company is excited to test the new design that was developed internally but nervous about losing sales if it is not to work out. As a result, they are looking to determine how many individuals they will need to serve the new email template in order to detect a 1% performance increase.\n",
    "\n",
    "### Step 1: State the Null Hypothesis, $H_0$\n",
    "State your null hypothesis here (be sure to make it quantitative as before)"
   ]
  },
  {
   "cell_type": "markdown",
   "metadata": {},
   "source": [
    "> H_0 = the probability of success for the new email template is .05"
   ]
  },
  {
   "cell_type": "markdown",
   "metadata": {},
   "source": [
    "### Step 2: State the Alternative Hypothesis, $H_1$\n",
    "State your alternative hypothesis here (be sure to make it quantitative as before"
   ]
  },
  {
   "cell_type": "markdown",
   "metadata": {},
   "source": [
    "> H_1 = the probability of success for the new email template is >= .06"
   ]
  },
  {
   "cell_type": "markdown",
   "metadata": {},
   "source": [
    "### Step 3: Calculate n for standard alpha and power thresholds\n",
    "Now define what  𝛼  and  𝛽  you believe might be appropriate for this scenario. To start, arbitrarily set  𝛼  to 0.05. From this, calculate the required sample size to detect a .01 response rate difference at a power of .8.\n",
    "\n",
    "Note: Be sure to calculate a normalized effect size using Cohen's d from the raw response rate difference."
   ]
  },
  {
   "cell_type": "code",
   "execution_count": 1,
   "metadata": {},
   "outputs": [
    {
     "data": {
      "text/plain": [
       "279.6667468021971"
      ]
     },
     "execution_count": 1,
     "metadata": {},
     "output_type": "execute_result"
    }
   ],
   "source": [
    "# Calculate the required sample size\n",
    "from statsmodels.stats.power import TTestIndPower, TTestPower\n",
    "power_analysis = TTestIndPower()\n",
    "mean_difference = 0.01\n",
    "sd = 0.0475\n",
    "effect_size = mean_difference / sd\n",
    "power_analysis.solve_power(alpha=.05, effect_size=effect_size, power=.80, alternative='larger')\n",
    "#print(effect_size) 0.21052631578947367"
   ]
  },
  {
   "cell_type": "code",
   "execution_count": null,
   "metadata": {},
   "outputs": [],
   "source": []
  }
 ],
 "metadata": {
  "kernelspec": {
   "display_name": "Python 3",
   "language": "python",
   "name": "python3"
  },
  "language_info": {
   "codemirror_mode": {
    "name": "ipython",
    "version": 3
   },
   "file_extension": ".py",
   "mimetype": "text/x-python",
   "name": "python",
   "nbconvert_exporter": "python",
   "pygments_lexer": "ipython3",
   "version": "3.8.5"
  }
 },
 "nbformat": 4,
 "nbformat_minor": 4
}
